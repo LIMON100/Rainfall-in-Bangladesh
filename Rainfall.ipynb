{
 "cells": [
  {
   "cell_type": "markdown",
   "metadata": {},
   "source": [
    "# Project : Work with 65 years dataset for Rainfall Analysis in Bangladesh."
   ]
  },
  {
   "cell_type": "code",
   "execution_count": 1,
   "metadata": {},
   "outputs": [],
   "source": [
    "# importing the necessary libraries\n",
    "\n",
    "import pandas as pd\n",
    "import gc\n",
    "import numpy as np\n",
    "from sklearn.preprocessing import LabelEncoder , MinMaxScaler\n",
    "from sklearn.model_selection import train_test_split , GridSearchCV , cross_val_score , KFold\n",
    "import matplotlib.pyplot as plt\n",
    "import seaborn as sns\n",
    "from sklearn.neighbors import KNeighborsRegressor\n",
    "from sklearn.metrics import r2_score\n",
    "from sklearn.svm import SVR\n",
    "from sklearn.tree import DecisionTreeRegressor\n",
    "from sklearn.ensemble import RandomForestRegressor\n",
    "from sklearn.ensemble import AdaBoostRegressor\n",
    "from sklearn.ensemble import GradientBoostingRegressor\n",
    "from sklearn.linear_model import LinearRegression\n",
    "from sklearn.feature_selection import RFE\n",
    "from xgboost import plot_importance\n",
    "import statsmodels.regression.linear_model as sm"
   ]
  },
  {
   "cell_type": "code",
   "execution_count": 2,
   "metadata": {},
   "outputs": [
    {
     "name": "stdout",
     "output_type": "stream",
     "text": [
      "Dataset Size is 2.7393798828125 MB\n"
     ]
    }
   ],
   "source": [
    "# load the dataset\n",
    "\n",
    "df = pd.read_csv('65 Years of Weather Data Bangladesh (1948 - 2013).csv')\n",
    "print('Dataset Size is {0} MB'.format(df.memory_usage().sum()/1024**2))"
   ]
  },
  {
   "cell_type": "code",
   "execution_count": 3,
   "metadata": {},
   "outputs": [
    {
     "data": {
      "text/plain": [
       "Station Names        0\n",
       "YEAR                 0\n",
       "Month                0\n",
       "Max Temp             0\n",
       "Min Temp             0\n",
       "Rainfall             0\n",
       "Relative Humidity    0\n",
       "Wind Speed           0\n",
       "Cloud Coverage       0\n",
       "Bright Sunshine      0\n",
       "Station Number       0\n",
       "X_COR                0\n",
       "Y_COR                0\n",
       "LATITUDE             0\n",
       "LONGITUDE            0\n",
       "ALT                  0\n",
       "Period               0\n",
       "dtype: int64"
      ]
     },
     "execution_count": 3,
     "metadata": {},
     "output_type": "execute_result"
    }
   ],
   "source": [
    "df.isnull().sum()"
   ]
  },
  {
   "cell_type": "code",
   "execution_count": 4,
   "metadata": {},
   "outputs": [
    {
     "name": "stdout",
     "output_type": "stream",
     "text": [
      "<class 'pandas.core.frame.DataFrame'>\n",
      "RangeIndex: 21120 entries, 0 to 21119\n",
      "Data columns (total 17 columns):\n",
      "Station Names        21120 non-null object\n",
      "YEAR                 21120 non-null int64\n",
      "Month                21120 non-null int64\n",
      "Max Temp             21120 non-null float64\n",
      "Min Temp             21120 non-null float64\n",
      "Rainfall             21120 non-null float64\n",
      "Relative Humidity    21120 non-null float64\n",
      "Wind Speed           21120 non-null float64\n",
      "Cloud Coverage       21120 non-null float64\n",
      "Bright Sunshine      21120 non-null float64\n",
      "Station Number       21120 non-null int64\n",
      "X_COR                21120 non-null float64\n",
      "Y_COR                21120 non-null float64\n",
      "LATITUDE             21120 non-null float64\n",
      "LONGITUDE            21120 non-null float64\n",
      "ALT                  21120 non-null int64\n",
      "Period               21120 non-null float64\n",
      "dtypes: float64(12), int64(4), object(1)\n",
      "memory usage: 2.7+ MB\n"
     ]
    }
   ],
   "source": [
    "df.info()"
   ]
  },
  {
   "cell_type": "code",
   "execution_count": 5,
   "metadata": {},
   "outputs": [
    {
     "data": {
      "text/html": [
       "<div>\n",
       "<style scoped>\n",
       "    .dataframe tbody tr th:only-of-type {\n",
       "        vertical-align: middle;\n",
       "    }\n",
       "\n",
       "    .dataframe tbody tr th {\n",
       "        vertical-align: top;\n",
       "    }\n",
       "\n",
       "    .dataframe thead th {\n",
       "        text-align: right;\n",
       "    }\n",
       "</style>\n",
       "<table border=\"1\" class=\"dataframe\">\n",
       "  <thead>\n",
       "    <tr style=\"text-align: right;\">\n",
       "      <th></th>\n",
       "      <th>0</th>\n",
       "      <th>1</th>\n",
       "      <th>2</th>\n",
       "      <th>3</th>\n",
       "      <th>4</th>\n",
       "    </tr>\n",
       "  </thead>\n",
       "  <tbody>\n",
       "    <tr>\n",
       "      <td>Station Names</td>\n",
       "      <td>Barisal</td>\n",
       "      <td>Barisal</td>\n",
       "      <td>Barisal</td>\n",
       "      <td>Barisal</td>\n",
       "      <td>Barisal</td>\n",
       "    </tr>\n",
       "    <tr>\n",
       "      <td>YEAR</td>\n",
       "      <td>1949</td>\n",
       "      <td>1950</td>\n",
       "      <td>1951</td>\n",
       "      <td>1952</td>\n",
       "      <td>1953</td>\n",
       "    </tr>\n",
       "    <tr>\n",
       "      <td>Month</td>\n",
       "      <td>1</td>\n",
       "      <td>1</td>\n",
       "      <td>1</td>\n",
       "      <td>1</td>\n",
       "      <td>1</td>\n",
       "    </tr>\n",
       "    <tr>\n",
       "      <td>Max Temp</td>\n",
       "      <td>29.4</td>\n",
       "      <td>30</td>\n",
       "      <td>28.2</td>\n",
       "      <td>26.6</td>\n",
       "      <td>30</td>\n",
       "    </tr>\n",
       "    <tr>\n",
       "      <td>Min Temp</td>\n",
       "      <td>12.3</td>\n",
       "      <td>14.1</td>\n",
       "      <td>12.3</td>\n",
       "      <td>12.3</td>\n",
       "      <td>13.3</td>\n",
       "    </tr>\n",
       "    <tr>\n",
       "      <td>Rainfall</td>\n",
       "      <td>0</td>\n",
       "      <td>0</td>\n",
       "      <td>0</td>\n",
       "      <td>2</td>\n",
       "      <td>10</td>\n",
       "    </tr>\n",
       "    <tr>\n",
       "      <td>Relative Humidity</td>\n",
       "      <td>68</td>\n",
       "      <td>77</td>\n",
       "      <td>77</td>\n",
       "      <td>77</td>\n",
       "      <td>75</td>\n",
       "    </tr>\n",
       "    <tr>\n",
       "      <td>Wind Speed</td>\n",
       "      <td>0.453704</td>\n",
       "      <td>0.453704</td>\n",
       "      <td>0.453704</td>\n",
       "      <td>0.453704</td>\n",
       "      <td>0.453704</td>\n",
       "    </tr>\n",
       "    <tr>\n",
       "      <td>Cloud Coverage</td>\n",
       "      <td>0.6</td>\n",
       "      <td>0.8</td>\n",
       "      <td>0.6</td>\n",
       "      <td>1</td>\n",
       "      <td>1.6</td>\n",
       "    </tr>\n",
       "    <tr>\n",
       "      <td>Bright Sunshine</td>\n",
       "      <td>7.83191</td>\n",
       "      <td>7.83191</td>\n",
       "      <td>7.83191</td>\n",
       "      <td>7.83191</td>\n",
       "      <td>7.83191</td>\n",
       "    </tr>\n",
       "    <tr>\n",
       "      <td>Station Number</td>\n",
       "      <td>41950</td>\n",
       "      <td>41950</td>\n",
       "      <td>41950</td>\n",
       "      <td>41950</td>\n",
       "      <td>41950</td>\n",
       "    </tr>\n",
       "    <tr>\n",
       "      <td>X_COR</td>\n",
       "      <td>536810</td>\n",
       "      <td>536810</td>\n",
       "      <td>536810</td>\n",
       "      <td>536810</td>\n",
       "      <td>536810</td>\n",
       "    </tr>\n",
       "    <tr>\n",
       "      <td>Y_COR</td>\n",
       "      <td>510152</td>\n",
       "      <td>510152</td>\n",
       "      <td>510152</td>\n",
       "      <td>510152</td>\n",
       "      <td>510152</td>\n",
       "    </tr>\n",
       "    <tr>\n",
       "      <td>LATITUDE</td>\n",
       "      <td>22.7</td>\n",
       "      <td>22.7</td>\n",
       "      <td>22.7</td>\n",
       "      <td>22.7</td>\n",
       "      <td>22.7</td>\n",
       "    </tr>\n",
       "    <tr>\n",
       "      <td>LONGITUDE</td>\n",
       "      <td>90.36</td>\n",
       "      <td>90.36</td>\n",
       "      <td>90.36</td>\n",
       "      <td>90.36</td>\n",
       "      <td>90.36</td>\n",
       "    </tr>\n",
       "    <tr>\n",
       "      <td>ALT</td>\n",
       "      <td>4</td>\n",
       "      <td>4</td>\n",
       "      <td>4</td>\n",
       "      <td>4</td>\n",
       "      <td>4</td>\n",
       "    </tr>\n",
       "    <tr>\n",
       "      <td>Period</td>\n",
       "      <td>1949.01</td>\n",
       "      <td>1950.01</td>\n",
       "      <td>1951.01</td>\n",
       "      <td>1952.01</td>\n",
       "      <td>1953.01</td>\n",
       "    </tr>\n",
       "  </tbody>\n",
       "</table>\n",
       "</div>"
      ],
      "text/plain": [
       "                          0         1         2         3         4\n",
       "Station Names       Barisal   Barisal   Barisal   Barisal   Barisal\n",
       "YEAR                   1949      1950      1951      1952      1953\n",
       "Month                     1         1         1         1         1\n",
       "Max Temp               29.4        30      28.2      26.6        30\n",
       "Min Temp               12.3      14.1      12.3      12.3      13.3\n",
       "Rainfall                  0         0         0         2        10\n",
       "Relative Humidity        68        77        77        77        75\n",
       "Wind Speed         0.453704  0.453704  0.453704  0.453704  0.453704\n",
       "Cloud Coverage          0.6       0.8       0.6         1       1.6\n",
       "Bright Sunshine     7.83191   7.83191   7.83191   7.83191   7.83191\n",
       "Station Number        41950     41950     41950     41950     41950\n",
       "X_COR                536810    536810    536810    536810    536810\n",
       "Y_COR                510152    510152    510152    510152    510152\n",
       "LATITUDE               22.7      22.7      22.7      22.7      22.7\n",
       "LONGITUDE             90.36     90.36     90.36     90.36     90.36\n",
       "ALT                       4         4         4         4         4\n",
       "Period              1949.01   1950.01   1951.01   1952.01   1953.01"
      ]
     },
     "execution_count": 5,
     "metadata": {},
     "output_type": "execute_result"
    }
   ],
   "source": [
    "df.head().transpose()"
   ]
  },
  {
   "cell_type": "code",
   "execution_count": 6,
   "metadata": {},
   "outputs": [],
   "source": [
    "# # delete some columns\n",
    "# new_df = df.drop(['Max Temp' , 'Min Temp' , 'Bright Sunshine' , 'Period'] , axis = 1)\n",
    "# print('Dataset Size is {0} MB'.format(new_df.memory_usage().sum()/1024**2)"
   ]
  },
  {
   "cell_type": "code",
   "execution_count": 7,
   "metadata": {},
   "outputs": [
    {
     "data": {
      "text/plain": [
       "Index(['Station Names', 'YEAR', 'Month', 'Max Temp', 'Min Temp', 'Rainfall',\n",
       "       'Relative Humidity', 'Wind Speed', 'Cloud Coverage', 'Bright Sunshine',\n",
       "       'Station Number', 'X_COR', 'Y_COR', 'LATITUDE', 'LONGITUDE', 'ALT',\n",
       "       'Period'],\n",
       "      dtype='object')"
      ]
     },
     "execution_count": 7,
     "metadata": {},
     "output_type": "execute_result"
    }
   ],
   "source": [
    "df.columns"
   ]
  },
  {
   "cell_type": "code",
   "execution_count": 8,
   "metadata": {},
   "outputs": [],
   "source": [
    "labelencoder_X = LabelEncoder()\n",
    "df['Station Names']= labelencoder_X.fit_transform(df['Station Names'])"
   ]
  },
  {
   "cell_type": "code",
   "execution_count": 9,
   "metadata": {},
   "outputs": [
    {
     "data": {
      "text/html": [
       "<div>\n",
       "<style scoped>\n",
       "    .dataframe tbody tr th:only-of-type {\n",
       "        vertical-align: middle;\n",
       "    }\n",
       "\n",
       "    .dataframe tbody tr th {\n",
       "        vertical-align: top;\n",
       "    }\n",
       "\n",
       "    .dataframe thead th {\n",
       "        text-align: right;\n",
       "    }\n",
       "</style>\n",
       "<table border=\"1\" class=\"dataframe\">\n",
       "  <thead>\n",
       "    <tr style=\"text-align: right;\">\n",
       "      <th></th>\n",
       "      <th>Station Names</th>\n",
       "      <th>YEAR</th>\n",
       "      <th>Month</th>\n",
       "      <th>Max Temp</th>\n",
       "      <th>Min Temp</th>\n",
       "      <th>Rainfall</th>\n",
       "      <th>Relative Humidity</th>\n",
       "      <th>Wind Speed</th>\n",
       "      <th>Cloud Coverage</th>\n",
       "      <th>Bright Sunshine</th>\n",
       "      <th>Station Number</th>\n",
       "      <th>X_COR</th>\n",
       "      <th>Y_COR</th>\n",
       "      <th>LATITUDE</th>\n",
       "      <th>LONGITUDE</th>\n",
       "      <th>ALT</th>\n",
       "      <th>Period</th>\n",
       "    </tr>\n",
       "  </thead>\n",
       "  <tbody>\n",
       "    <tr>\n",
       "      <td>0</td>\n",
       "      <td>0</td>\n",
       "      <td>1949</td>\n",
       "      <td>1</td>\n",
       "      <td>29.4</td>\n",
       "      <td>12.3</td>\n",
       "      <td>0.0</td>\n",
       "      <td>68.0</td>\n",
       "      <td>0.453704</td>\n",
       "      <td>0.6</td>\n",
       "      <td>7.831915</td>\n",
       "      <td>41950</td>\n",
       "      <td>536809.8</td>\n",
       "      <td>510151.9</td>\n",
       "      <td>22.7</td>\n",
       "      <td>90.36</td>\n",
       "      <td>4</td>\n",
       "      <td>1949.01</td>\n",
       "    </tr>\n",
       "    <tr>\n",
       "      <td>1</td>\n",
       "      <td>0</td>\n",
       "      <td>1950</td>\n",
       "      <td>1</td>\n",
       "      <td>30.0</td>\n",
       "      <td>14.1</td>\n",
       "      <td>0.0</td>\n",
       "      <td>77.0</td>\n",
       "      <td>0.453704</td>\n",
       "      <td>0.8</td>\n",
       "      <td>7.831915</td>\n",
       "      <td>41950</td>\n",
       "      <td>536809.8</td>\n",
       "      <td>510151.9</td>\n",
       "      <td>22.7</td>\n",
       "      <td>90.36</td>\n",
       "      <td>4</td>\n",
       "      <td>1950.01</td>\n",
       "    </tr>\n",
       "    <tr>\n",
       "      <td>2</td>\n",
       "      <td>0</td>\n",
       "      <td>1951</td>\n",
       "      <td>1</td>\n",
       "      <td>28.2</td>\n",
       "      <td>12.3</td>\n",
       "      <td>0.0</td>\n",
       "      <td>77.0</td>\n",
       "      <td>0.453704</td>\n",
       "      <td>0.6</td>\n",
       "      <td>7.831915</td>\n",
       "      <td>41950</td>\n",
       "      <td>536809.8</td>\n",
       "      <td>510151.9</td>\n",
       "      <td>22.7</td>\n",
       "      <td>90.36</td>\n",
       "      <td>4</td>\n",
       "      <td>1951.01</td>\n",
       "    </tr>\n",
       "    <tr>\n",
       "      <td>3</td>\n",
       "      <td>0</td>\n",
       "      <td>1952</td>\n",
       "      <td>1</td>\n",
       "      <td>26.6</td>\n",
       "      <td>12.3</td>\n",
       "      <td>2.0</td>\n",
       "      <td>77.0</td>\n",
       "      <td>0.453704</td>\n",
       "      <td>1.0</td>\n",
       "      <td>7.831915</td>\n",
       "      <td>41950</td>\n",
       "      <td>536809.8</td>\n",
       "      <td>510151.9</td>\n",
       "      <td>22.7</td>\n",
       "      <td>90.36</td>\n",
       "      <td>4</td>\n",
       "      <td>1952.01</td>\n",
       "    </tr>\n",
       "    <tr>\n",
       "      <td>4</td>\n",
       "      <td>0</td>\n",
       "      <td>1953</td>\n",
       "      <td>1</td>\n",
       "      <td>30.0</td>\n",
       "      <td>13.3</td>\n",
       "      <td>10.0</td>\n",
       "      <td>75.0</td>\n",
       "      <td>0.453704</td>\n",
       "      <td>1.6</td>\n",
       "      <td>7.831915</td>\n",
       "      <td>41950</td>\n",
       "      <td>536809.8</td>\n",
       "      <td>510151.9</td>\n",
       "      <td>22.7</td>\n",
       "      <td>90.36</td>\n",
       "      <td>4</td>\n",
       "      <td>1953.01</td>\n",
       "    </tr>\n",
       "  </tbody>\n",
       "</table>\n",
       "</div>"
      ],
      "text/plain": [
       "   Station Names  YEAR  Month  Max Temp  Min Temp  Rainfall  \\\n",
       "0              0  1949      1      29.4      12.3       0.0   \n",
       "1              0  1950      1      30.0      14.1       0.0   \n",
       "2              0  1951      1      28.2      12.3       0.0   \n",
       "3              0  1952      1      26.6      12.3       2.0   \n",
       "4              0  1953      1      30.0      13.3      10.0   \n",
       "\n",
       "   Relative Humidity  Wind Speed  Cloud Coverage  Bright Sunshine  \\\n",
       "0               68.0    0.453704             0.6         7.831915   \n",
       "1               77.0    0.453704             0.8         7.831915   \n",
       "2               77.0    0.453704             0.6         7.831915   \n",
       "3               77.0    0.453704             1.0         7.831915   \n",
       "4               75.0    0.453704             1.6         7.831915   \n",
       "\n",
       "   Station Number     X_COR     Y_COR  LATITUDE  LONGITUDE  ALT   Period  \n",
       "0           41950  536809.8  510151.9      22.7      90.36    4  1949.01  \n",
       "1           41950  536809.8  510151.9      22.7      90.36    4  1950.01  \n",
       "2           41950  536809.8  510151.9      22.7      90.36    4  1951.01  \n",
       "3           41950  536809.8  510151.9      22.7      90.36    4  1952.01  \n",
       "4           41950  536809.8  510151.9      22.7      90.36    4  1953.01  "
      ]
     },
     "execution_count": 9,
     "metadata": {},
     "output_type": "execute_result"
    }
   ],
   "source": [
    "df.head()"
   ]
  },
  {
   "cell_type": "markdown",
   "metadata": {},
   "source": [
    "#### Divided the dataset into train and test."
   ]
  },
  {
   "cell_type": "code",
   "execution_count": 10,
   "metadata": {},
   "outputs": [],
   "source": [
    "df_train, df_test = train_test_split(df , train_size = 0.75, test_size = 0.25, random_state = 80)"
   ]
  },
  {
   "cell_type": "code",
   "execution_count": 11,
   "metadata": {},
   "outputs": [
    {
     "data": {
      "text/html": [
       "<div>\n",
       "<style scoped>\n",
       "    .dataframe tbody tr th:only-of-type {\n",
       "        vertical-align: middle;\n",
       "    }\n",
       "\n",
       "    .dataframe tbody tr th {\n",
       "        vertical-align: top;\n",
       "    }\n",
       "\n",
       "    .dataframe thead th {\n",
       "        text-align: right;\n",
       "    }\n",
       "</style>\n",
       "<table border=\"1\" class=\"dataframe\">\n",
       "  <thead>\n",
       "    <tr style=\"text-align: right;\">\n",
       "      <th></th>\n",
       "      <th>Station Names</th>\n",
       "      <th>YEAR</th>\n",
       "      <th>Month</th>\n",
       "      <th>Max Temp</th>\n",
       "      <th>Min Temp</th>\n",
       "      <th>Rainfall</th>\n",
       "      <th>Relative Humidity</th>\n",
       "      <th>Wind Speed</th>\n",
       "      <th>Cloud Coverage</th>\n",
       "      <th>Bright Sunshine</th>\n",
       "      <th>Station Number</th>\n",
       "      <th>X_COR</th>\n",
       "      <th>Y_COR</th>\n",
       "      <th>LATITUDE</th>\n",
       "      <th>LONGITUDE</th>\n",
       "      <th>ALT</th>\n",
       "      <th>Period</th>\n",
       "    </tr>\n",
       "  </thead>\n",
       "  <tbody>\n",
       "    <tr>\n",
       "      <td>17095</td>\n",
       "      <td>27</td>\n",
       "      <td>1997</td>\n",
       "      <td>7</td>\n",
       "      <td>32.7</td>\n",
       "      <td>24.1</td>\n",
       "      <td>983.0</td>\n",
       "      <td>92.000000</td>\n",
       "      <td>2.300000</td>\n",
       "      <td>6.6</td>\n",
       "      <td>3.300000</td>\n",
       "      <td>41964</td>\n",
       "      <td>650012.1</td>\n",
       "      <td>488627.9</td>\n",
       "      <td>22.50</td>\n",
       "      <td>91.46</td>\n",
       "      <td>6</td>\n",
       "      <td>1997.07</td>\n",
       "    </tr>\n",
       "    <tr>\n",
       "      <td>20004</td>\n",
       "      <td>32</td>\n",
       "      <td>1956</td>\n",
       "      <td>7</td>\n",
       "      <td>35.0</td>\n",
       "      <td>24.6</td>\n",
       "      <td>872.0</td>\n",
       "      <td>87.245614</td>\n",
       "      <td>1.512963</td>\n",
       "      <td>7.1</td>\n",
       "      <td>3.719231</td>\n",
       "      <td>41891</td>\n",
       "      <td>694533.2</td>\n",
       "      <td>752277.9</td>\n",
       "      <td>24.88</td>\n",
       "      <td>91.93</td>\n",
       "      <td>35</td>\n",
       "      <td>1956.07</td>\n",
       "    </tr>\n",
       "    <tr>\n",
       "      <td>14671</td>\n",
       "      <td>23</td>\n",
       "      <td>1995</td>\n",
       "      <td>10</td>\n",
       "      <td>34.5</td>\n",
       "      <td>24.8</td>\n",
       "      <td>289.0</td>\n",
       "      <td>85.000000</td>\n",
       "      <td>0.600000</td>\n",
       "      <td>3.8</td>\n",
       "      <td>6.100000</td>\n",
       "      <td>41960</td>\n",
       "      <td>534986.1</td>\n",
       "      <td>472575.7</td>\n",
       "      <td>22.36</td>\n",
       "      <td>90.34</td>\n",
       "      <td>3</td>\n",
       "      <td>1995.10</td>\n",
       "    </tr>\n",
       "    <tr>\n",
       "      <td>925</td>\n",
       "      <td>1</td>\n",
       "      <td>1967</td>\n",
       "      <td>4</td>\n",
       "      <td>36.4</td>\n",
       "      <td>22.7</td>\n",
       "      <td>80.0</td>\n",
       "      <td>78.000000</td>\n",
       "      <td>3.100000</td>\n",
       "      <td>3.0</td>\n",
       "      <td>6.948485</td>\n",
       "      <td>41951</td>\n",
       "      <td>567637.6</td>\n",
       "      <td>510271.8</td>\n",
       "      <td>22.70</td>\n",
       "      <td>90.66</td>\n",
       "      <td>5</td>\n",
       "      <td>1967.04</td>\n",
       "    </tr>\n",
       "    <tr>\n",
       "      <td>17325</td>\n",
       "      <td>27</td>\n",
       "      <td>1987</td>\n",
       "      <td>12</td>\n",
       "      <td>29.0</td>\n",
       "      <td>16.6</td>\n",
       "      <td>22.0</td>\n",
       "      <td>77.000000</td>\n",
       "      <td>0.700000</td>\n",
       "      <td>1.3</td>\n",
       "      <td>8.000000</td>\n",
       "      <td>41964</td>\n",
       "      <td>650012.1</td>\n",
       "      <td>488627.9</td>\n",
       "      <td>22.50</td>\n",
       "      <td>91.46</td>\n",
       "      <td>6</td>\n",
       "      <td>1987.12</td>\n",
       "    </tr>\n",
       "    <tr>\n",
       "      <td>...</td>\n",
       "      <td>...</td>\n",
       "      <td>...</td>\n",
       "      <td>...</td>\n",
       "      <td>...</td>\n",
       "      <td>...</td>\n",
       "      <td>...</td>\n",
       "      <td>...</td>\n",
       "      <td>...</td>\n",
       "      <td>...</td>\n",
       "      <td>...</td>\n",
       "      <td>...</td>\n",
       "      <td>...</td>\n",
       "      <td>...</td>\n",
       "      <td>...</td>\n",
       "      <td>...</td>\n",
       "      <td>...</td>\n",
       "      <td>...</td>\n",
       "    </tr>\n",
       "    <tr>\n",
       "      <td>8714</td>\n",
       "      <td>13</td>\n",
       "      <td>1980</td>\n",
       "      <td>10</td>\n",
       "      <td>32.6</td>\n",
       "      <td>24.4</td>\n",
       "      <td>387.0</td>\n",
       "      <td>83.000000</td>\n",
       "      <td>1.300000</td>\n",
       "      <td>2.7</td>\n",
       "      <td>6.493103</td>\n",
       "      <td>41963</td>\n",
       "      <td>616159.2</td>\n",
       "      <td>465295.1</td>\n",
       "      <td>22.29</td>\n",
       "      <td>91.13</td>\n",
       "      <td>4</td>\n",
       "      <td>1980.10</td>\n",
       "    </tr>\n",
       "    <tr>\n",
       "      <td>2259</td>\n",
       "      <td>3</td>\n",
       "      <td>1975</td>\n",
       "      <td>3</td>\n",
       "      <td>36.1</td>\n",
       "      <td>19.6</td>\n",
       "      <td>1.0</td>\n",
       "      <td>70.000000</td>\n",
       "      <td>1.000000</td>\n",
       "      <td>0.8</td>\n",
       "      <td>6.889189</td>\n",
       "      <td>41941</td>\n",
       "      <td>568556.9</td>\n",
       "      <td>571945.8</td>\n",
       "      <td>23.26</td>\n",
       "      <td>90.67</td>\n",
       "      <td>7</td>\n",
       "      <td>1975.03</td>\n",
       "    </tr>\n",
       "    <tr>\n",
       "      <td>19366</td>\n",
       "      <td>30</td>\n",
       "      <td>2000</td>\n",
       "      <td>12</td>\n",
       "      <td>29.0</td>\n",
       "      <td>11.0</td>\n",
       "      <td>0.0</td>\n",
       "      <td>80.000000</td>\n",
       "      <td>0.300000</td>\n",
       "      <td>1.2</td>\n",
       "      <td>9.500000</td>\n",
       "      <td>41915</td>\n",
       "      <td>675761.6</td>\n",
       "      <td>687095.9</td>\n",
       "      <td>24.29</td>\n",
       "      <td>91.73</td>\n",
       "      <td>23</td>\n",
       "      <td>2000.12</td>\n",
       "    </tr>\n",
       "    <tr>\n",
       "      <td>5308</td>\n",
       "      <td>8</td>\n",
       "      <td>1994</td>\n",
       "      <td>10</td>\n",
       "      <td>34.0</td>\n",
       "      <td>24.0</td>\n",
       "      <td>88.0</td>\n",
       "      <td>79.000000</td>\n",
       "      <td>0.800000</td>\n",
       "      <td>2.9</td>\n",
       "      <td>6.900000</td>\n",
       "      <td>41992</td>\n",
       "      <td>705183.0</td>\n",
       "      <td>374324.6</td>\n",
       "      <td>21.46</td>\n",
       "      <td>91.98</td>\n",
       "      <td>4</td>\n",
       "      <td>1994.10</td>\n",
       "    </tr>\n",
       "    <tr>\n",
       "      <td>17583</td>\n",
       "      <td>28</td>\n",
       "      <td>1981</td>\n",
       "      <td>4</td>\n",
       "      <td>36.7</td>\n",
       "      <td>22.8</td>\n",
       "      <td>264.0</td>\n",
       "      <td>73.000000</td>\n",
       "      <td>2.200000</td>\n",
       "      <td>4.0</td>\n",
       "      <td>8.656667</td>\n",
       "      <td>41946</td>\n",
       "      <td>404211.7</td>\n",
       "      <td>508367.2</td>\n",
       "      <td>22.68</td>\n",
       "      <td>89.07</td>\n",
       "      <td>6</td>\n",
       "      <td>1981.04</td>\n",
       "    </tr>\n",
       "  </tbody>\n",
       "</table>\n",
       "<p>15840 rows × 17 columns</p>\n",
       "</div>"
      ],
      "text/plain": [
       "       Station Names  YEAR  Month  Max Temp  Min Temp  Rainfall  \\\n",
       "17095             27  1997      7      32.7      24.1     983.0   \n",
       "20004             32  1956      7      35.0      24.6     872.0   \n",
       "14671             23  1995     10      34.5      24.8     289.0   \n",
       "925                1  1967      4      36.4      22.7      80.0   \n",
       "17325             27  1987     12      29.0      16.6      22.0   \n",
       "...              ...   ...    ...       ...       ...       ...   \n",
       "8714              13  1980     10      32.6      24.4     387.0   \n",
       "2259               3  1975      3      36.1      19.6       1.0   \n",
       "19366             30  2000     12      29.0      11.0       0.0   \n",
       "5308               8  1994     10      34.0      24.0      88.0   \n",
       "17583             28  1981      4      36.7      22.8     264.0   \n",
       "\n",
       "       Relative Humidity  Wind Speed  Cloud Coverage  Bright Sunshine  \\\n",
       "17095          92.000000    2.300000             6.6         3.300000   \n",
       "20004          87.245614    1.512963             7.1         3.719231   \n",
       "14671          85.000000    0.600000             3.8         6.100000   \n",
       "925            78.000000    3.100000             3.0         6.948485   \n",
       "17325          77.000000    0.700000             1.3         8.000000   \n",
       "...                  ...         ...             ...              ...   \n",
       "8714           83.000000    1.300000             2.7         6.493103   \n",
       "2259           70.000000    1.000000             0.8         6.889189   \n",
       "19366          80.000000    0.300000             1.2         9.500000   \n",
       "5308           79.000000    0.800000             2.9         6.900000   \n",
       "17583          73.000000    2.200000             4.0         8.656667   \n",
       "\n",
       "       Station Number     X_COR     Y_COR  LATITUDE  LONGITUDE  ALT   Period  \n",
       "17095           41964  650012.1  488627.9     22.50      91.46    6  1997.07  \n",
       "20004           41891  694533.2  752277.9     24.88      91.93   35  1956.07  \n",
       "14671           41960  534986.1  472575.7     22.36      90.34    3  1995.10  \n",
       "925             41951  567637.6  510271.8     22.70      90.66    5  1967.04  \n",
       "17325           41964  650012.1  488627.9     22.50      91.46    6  1987.12  \n",
       "...               ...       ...       ...       ...        ...  ...      ...  \n",
       "8714            41963  616159.2  465295.1     22.29      91.13    4  1980.10  \n",
       "2259            41941  568556.9  571945.8     23.26      90.67    7  1975.03  \n",
       "19366           41915  675761.6  687095.9     24.29      91.73   23  2000.12  \n",
       "5308            41992  705183.0  374324.6     21.46      91.98    4  1994.10  \n",
       "17583           41946  404211.7  508367.2     22.68      89.07    6  1981.04  \n",
       "\n",
       "[15840 rows x 17 columns]"
      ]
     },
     "execution_count": 11,
     "metadata": {},
     "output_type": "execute_result"
    }
   ],
   "source": [
    "df_train"
   ]
  },
  {
   "cell_type": "code",
   "execution_count": 12,
   "metadata": {},
   "outputs": [
    {
     "data": {
      "text/plain": [
       "['Station Names',\n",
       " 'YEAR',\n",
       " 'Month',\n",
       " 'Max Temp',\n",
       " 'Min Temp',\n",
       " 'Rainfall',\n",
       " 'Relative Humidity',\n",
       " 'Wind Speed',\n",
       " 'Cloud Coverage',\n",
       " 'Station Number',\n",
       " 'X_COR',\n",
       " 'Y_COR',\n",
       " 'LATITUDE',\n",
       " 'LONGITUDE',\n",
       " 'ALT']"
      ]
     },
     "execution_count": 12,
     "metadata": {},
     "output_type": "execute_result"
    }
   ],
   "source": [
    "mm_scaler = MinMaxScaler()\n",
    "features_names = ['Station Names' , 'YEAR' , 'Month' , 'Max Temp' , 'Min Temp' , 'Rainfall' , 'Relative Humidity' , 'Wind Speed' , 'Cloud Coverage' , 'Station Number' , 'X_COR' , 'Y_COR' , 'LATITUDE' , 'LONGITUDE' , 'ALT']\n",
    "features_names"
   ]
  },
  {
   "cell_type": "code",
   "execution_count": 13,
   "metadata": {},
   "outputs": [
    {
     "name": "stderr",
     "output_type": "stream",
     "text": [
      "C:\\Users\\Mahmudur Limon\\Anaconda3\\lib\\site-packages\\ipykernel_launcher.py:1: SettingWithCopyWarning: \n",
      "A value is trying to be set on a copy of a slice from a DataFrame.\n",
      "Try using .loc[row_indexer,col_indexer] = value instead\n",
      "\n",
      "See the caveats in the documentation: http://pandas.pydata.org/pandas-docs/stable/user_guide/indexing.html#returning-a-view-versus-a-copy\n",
      "  \"\"\"Entry point for launching an IPython kernel.\n",
      "C:\\Users\\Mahmudur Limon\\Anaconda3\\lib\\site-packages\\pandas\\core\\indexing.py:494: SettingWithCopyWarning: \n",
      "A value is trying to be set on a copy of a slice from a DataFrame.\n",
      "Try using .loc[row_indexer,col_indexer] = value instead\n",
      "\n",
      "See the caveats in the documentation: http://pandas.pydata.org/pandas-docs/stable/user_guide/indexing.html#returning-a-view-versus-a-copy\n",
      "  self.obj[item] = s\n",
      "C:\\Users\\Mahmudur Limon\\Anaconda3\\lib\\site-packages\\ipykernel_launcher.py:2: SettingWithCopyWarning: \n",
      "A value is trying to be set on a copy of a slice from a DataFrame.\n",
      "Try using .loc[row_indexer,col_indexer] = value instead\n",
      "\n",
      "See the caveats in the documentation: http://pandas.pydata.org/pandas-docs/stable/user_guide/indexing.html#returning-a-view-versus-a-copy\n",
      "  \n",
      "C:\\Users\\Mahmudur Limon\\Anaconda3\\lib\\site-packages\\pandas\\core\\indexing.py:494: SettingWithCopyWarning: \n",
      "A value is trying to be set on a copy of a slice from a DataFrame.\n",
      "Try using .loc[row_indexer,col_indexer] = value instead\n",
      "\n",
      "See the caveats in the documentation: http://pandas.pydata.org/pandas-docs/stable/user_guide/indexing.html#returning-a-view-versus-a-copy\n",
      "  self.obj[item] = s\n"
     ]
    }
   ],
   "source": [
    "df_train[features_names] = mm_scaler.fit_transform(df_train[features_names])\n",
    "df_test[features_names] = mm_scaler.fit_transform(df_test[features_names])"
   ]
  },
  {
   "cell_type": "code",
   "execution_count": 14,
   "metadata": {},
   "outputs": [],
   "source": [
    "x_train = df_train\n",
    "y_train = df_train.pop('Rainfall')\n",
    "\n",
    "\n",
    "x_test = df_test\n",
    "y_test = df_test.pop('Rainfall')"
   ]
  },
  {
   "cell_type": "markdown",
   "metadata": {},
   "source": [
    "## Check the important columns."
   ]
  },
  {
   "cell_type": "code",
   "execution_count": 15,
   "metadata": {},
   "outputs": [],
   "source": [
    "lm = LinearRegression()\n",
    "rfe = RFE(lm, 9)"
   ]
  },
  {
   "cell_type": "code",
   "execution_count": 16,
   "metadata": {},
   "outputs": [
    {
     "name": "stdout",
     "output_type": "stream",
     "text": [
      "[False False False  True  True  True  True  True  True  True False False\n",
      "  True  True False False]\n",
      "[3 8 4 1 1 1 1 1 1 1 5 2 1 1 6 7]\n"
     ]
    }
   ],
   "source": [
    "rfe = rfe.fit(x_train , y_train)\n",
    "print(rfe.support_)\n",
    "print(rfe.ranking_) "
   ]
  },
  {
   "cell_type": "code",
   "execution_count": 17,
   "metadata": {},
   "outputs": [],
   "source": [
    "lm = LinearRegression()\n",
    "lm.fit(x_train, y_train)\n",
    "\n",
    "rfe = RFE(lm, n_features_to_select=9)             \n",
    "rfe = rfe.fit(x_train, y_train)"
   ]
  },
  {
   "cell_type": "code",
   "execution_count": 18,
   "metadata": {},
   "outputs": [
    {
     "name": "stdout",
     "output_type": "stream",
     "text": [
      "63.39975610973481\n"
     ]
    }
   ],
   "source": [
    "y_pred = rfe.predict(x_test)\n",
    "ac_mlr = r2_score(y_test, y_pred)\n",
    "print(ac_mlr*100)"
   ]
  },
  {
   "cell_type": "markdown",
   "metadata": {},
   "source": [
    "Only 63% accuracy.Let's check with cross validation for better result."
   ]
  },
  {
   "cell_type": "code",
   "execution_count": 19,
   "metadata": {},
   "outputs": [
    {
     "name": "stdout",
     "output_type": "stream",
     "text": [
      "0.6635429135145086\n"
     ]
    }
   ],
   "source": [
    "lm = LinearRegression()\n",
    "scores = cross_val_score(lm, x_train, y_train, scoring='r2', cv=5)\n",
    "print(np.max(scores))"
   ]
  },
  {
   "cell_type": "markdown",
   "metadata": {},
   "source": [
    "After doing cross validation the score increase not much.Now do some hyperparameter tunning."
   ]
  },
  {
   "cell_type": "code",
   "execution_count": 20,
   "metadata": {},
   "outputs": [],
   "source": [
    "folds = KFold(n_splits = 5, shuffle = True, random_state = 100)\n",
    "hyper_params = [{'n_features_to_select': list(range(1 , 12))}]"
   ]
  },
  {
   "cell_type": "code",
   "execution_count": 21,
   "metadata": {},
   "outputs": [],
   "source": [
    "# lm = LinearRegression()\n",
    "# lm.fit(x_train, y_train)        \n",
    "\n",
    "# model_cv = GridSearchCV(estimator = lm , param_grid = hyper_params, scoring= 'r2', cv = folds, return_train_score=True , n_jobs = -1)      \n",
    "\n",
    "# model_cv.fit(x_train, y_train)   "
   ]
  },
  {
   "cell_type": "markdown",
   "metadata": {},
   "source": [
    "#### Now check which columns are important for better result"
   ]
  },
  {
   "cell_type": "markdown",
   "metadata": {},
   "source": [
    "Using Ordinary Least Squares or OLS to find out the best columns."
   ]
  },
  {
   "cell_type": "code",
   "execution_count": 22,
   "metadata": {},
   "outputs": [
    {
     "data": {
      "text/html": [
       "<table class=\"simpletable\">\n",
       "<caption>OLS Regression Results</caption>\n",
       "<tr>\n",
       "  <th>Dep. Variable:</th>        <td>Rainfall</td>     <th>  R-squared:         </th>  <td>   0.648</td> \n",
       "</tr>\n",
       "<tr>\n",
       "  <th>Model:</th>                   <td>OLS</td>       <th>  Adj. R-squared:    </th>  <td>   0.648</td> \n",
       "</tr>\n",
       "<tr>\n",
       "  <th>Method:</th>             <td>Least Squares</td>  <th>  F-statistic:       </th>  <td>   1944.</td> \n",
       "</tr>\n",
       "<tr>\n",
       "  <th>Date:</th>             <td>Tue, 21 Apr 2020</td> <th>  Prob (F-statistic):</th>   <td>  0.00</td>  \n",
       "</tr>\n",
       "<tr>\n",
       "  <th>Time:</th>                 <td>15:17:16</td>     <th>  Log-Likelihood:    </th>  <td>  20057.</td> \n",
       "</tr>\n",
       "<tr>\n",
       "  <th>No. Observations:</th>      <td> 15840</td>      <th>  AIC:               </th> <td>-4.008e+04</td>\n",
       "</tr>\n",
       "<tr>\n",
       "  <th>Df Residuals:</th>          <td> 15824</td>      <th>  BIC:               </th> <td>-3.996e+04</td>\n",
       "</tr>\n",
       "<tr>\n",
       "  <th>Df Model:</th>              <td>    15</td>      <th>                     </th>      <td> </td>    \n",
       "</tr>\n",
       "<tr>\n",
       "  <th>Covariance Type:</th>      <td>nonrobust</td>    <th>                     </th>      <td> </td>    \n",
       "</tr>\n",
       "</table>\n",
       "<table class=\"simpletable\">\n",
       "<tr>\n",
       "          <td></td>             <th>coef</th>     <th>std err</th>      <th>t</th>      <th>P>|t|</th>  <th>[0.025</th>    <th>0.975]</th>  \n",
       "</tr>\n",
       "<tr>\n",
       "  <th>Station Names</th>     <td>    0.0126</td> <td>    0.002</td> <td>    6.099</td> <td> 0.000</td> <td>    0.009</td> <td>    0.017</td>\n",
       "</tr>\n",
       "<tr>\n",
       "  <th>YEAR</th>              <td>   -0.0124</td> <td>    0.002</td> <td>   -5.419</td> <td> 0.000</td> <td>   -0.017</td> <td>   -0.008</td>\n",
       "</tr>\n",
       "<tr>\n",
       "  <th>Month</th>             <td>   -0.0086</td> <td>    0.002</td> <td>   -4.167</td> <td> 0.000</td> <td>   -0.013</td> <td>   -0.005</td>\n",
       "</tr>\n",
       "<tr>\n",
       "  <th>Max Temp</th>          <td>    0.0115</td> <td>    0.007</td> <td>    1.658</td> <td> 0.097</td> <td>   -0.002</td> <td>    0.025</td>\n",
       "</tr>\n",
       "<tr>\n",
       "  <th>Min Temp</th>          <td>   -0.0253</td> <td>    0.006</td> <td>   -3.917</td> <td> 0.000</td> <td>   -0.038</td> <td>   -0.013</td>\n",
       "</tr>\n",
       "<tr>\n",
       "  <th>Relative Humidity</th> <td>    0.0730</td> <td>    0.007</td> <td>   10.358</td> <td> 0.000</td> <td>    0.059</td> <td>    0.087</td>\n",
       "</tr>\n",
       "<tr>\n",
       "  <th>Wind Speed</th>        <td>    0.0706</td> <td>    0.007</td> <td>   10.235</td> <td> 0.000</td> <td>    0.057</td> <td>    0.084</td>\n",
       "</tr>\n",
       "<tr>\n",
       "  <th>Cloud Coverage</th>    <td>    0.2362</td> <td>    0.005</td> <td>   43.318</td> <td> 0.000</td> <td>    0.226</td> <td>    0.247</td>\n",
       "</tr>\n",
       "<tr>\n",
       "  <th>Bright Sunshine</th>   <td>   -0.0158</td> <td>    0.001</td> <td>  -29.469</td> <td> 0.000</td> <td>   -0.017</td> <td>   -0.015</td>\n",
       "</tr>\n",
       "<tr>\n",
       "  <th>Station Number</th>    <td>   -0.1667</td> <td>    0.018</td> <td>   -9.498</td> <td> 0.000</td> <td>   -0.201</td> <td>   -0.132</td>\n",
       "</tr>\n",
       "<tr>\n",
       "  <th>X_COR</th>             <td>   -0.0059</td> <td>    0.018</td> <td>   -0.328</td> <td> 0.743</td> <td>   -0.041</td> <td>    0.029</td>\n",
       "</tr>\n",
       "<tr>\n",
       "  <th>Y_COR</th>             <td>   -0.0107</td> <td>    0.012</td> <td>   -0.879</td> <td> 0.379</td> <td>   -0.035</td> <td>    0.013</td>\n",
       "</tr>\n",
       "<tr>\n",
       "  <th>LATITUDE</th>          <td>   -0.1755</td> <td>    0.020</td> <td>   -8.840</td> <td> 0.000</td> <td>   -0.214</td> <td>   -0.137</td>\n",
       "</tr>\n",
       "<tr>\n",
       "  <th>LONGITUDE</th>         <td>    0.0732</td> <td>    0.010</td> <td>    7.479</td> <td> 0.000</td> <td>    0.054</td> <td>    0.092</td>\n",
       "</tr>\n",
       "<tr>\n",
       "  <th>ALT</th>               <td>   -0.0006</td> <td>    0.004</td> <td>   -0.163</td> <td> 0.871</td> <td>   -0.008</td> <td>    0.007</td>\n",
       "</tr>\n",
       "<tr>\n",
       "  <th>Period</th>            <td>    0.0001</td> <td> 1.05e-05</td> <td>    9.832</td> <td> 0.000</td> <td> 8.26e-05</td> <td>    0.000</td>\n",
       "</tr>\n",
       "</table>\n",
       "<table class=\"simpletable\">\n",
       "<tr>\n",
       "  <th>Omnibus:</th>       <td>6065.421</td> <th>  Durbin-Watson:     </th> <td>   2.001</td> \n",
       "</tr>\n",
       "<tr>\n",
       "  <th>Prob(Omnibus):</th>  <td> 0.000</td>  <th>  Jarque-Bera (JB):  </th> <td>50292.486</td>\n",
       "</tr>\n",
       "<tr>\n",
       "  <th>Skew:</th>           <td> 1.617</td>  <th>  Prob(JB):          </th> <td>    0.00</td> \n",
       "</tr>\n",
       "<tr>\n",
       "  <th>Kurtosis:</th>       <td>11.108</td>  <th>  Cond. No.          </th> <td>1.03e+05</td> \n",
       "</tr>\n",
       "</table><br/><br/>Warnings:<br/>[1] Standard Errors assume that the covariance matrix of the errors is correctly specified.<br/>[2] The condition number is large, 1.03e+05. This might indicate that there are<br/>strong multicollinearity or other numerical problems."
      ],
      "text/plain": [
       "<class 'statsmodels.iolib.summary.Summary'>\n",
       "\"\"\"\n",
       "                            OLS Regression Results                            \n",
       "==============================================================================\n",
       "Dep. Variable:               Rainfall   R-squared:                       0.648\n",
       "Model:                            OLS   Adj. R-squared:                  0.648\n",
       "Method:                 Least Squares   F-statistic:                     1944.\n",
       "Date:                Tue, 21 Apr 2020   Prob (F-statistic):               0.00\n",
       "Time:                        15:17:16   Log-Likelihood:                 20057.\n",
       "No. Observations:               15840   AIC:                        -4.008e+04\n",
       "Df Residuals:                   15824   BIC:                        -3.996e+04\n",
       "Df Model:                          15                                         \n",
       "Covariance Type:            nonrobust                                         \n",
       "=====================================================================================\n",
       "                        coef    std err          t      P>|t|      [0.025      0.975]\n",
       "-------------------------------------------------------------------------------------\n",
       "Station Names         0.0126      0.002      6.099      0.000       0.009       0.017\n",
       "YEAR                 -0.0124      0.002     -5.419      0.000      -0.017      -0.008\n",
       "Month                -0.0086      0.002     -4.167      0.000      -0.013      -0.005\n",
       "Max Temp              0.0115      0.007      1.658      0.097      -0.002       0.025\n",
       "Min Temp             -0.0253      0.006     -3.917      0.000      -0.038      -0.013\n",
       "Relative Humidity     0.0730      0.007     10.358      0.000       0.059       0.087\n",
       "Wind Speed            0.0706      0.007     10.235      0.000       0.057       0.084\n",
       "Cloud Coverage        0.2362      0.005     43.318      0.000       0.226       0.247\n",
       "Bright Sunshine      -0.0158      0.001    -29.469      0.000      -0.017      -0.015\n",
       "Station Number       -0.1667      0.018     -9.498      0.000      -0.201      -0.132\n",
       "X_COR                -0.0059      0.018     -0.328      0.743      -0.041       0.029\n",
       "Y_COR                -0.0107      0.012     -0.879      0.379      -0.035       0.013\n",
       "LATITUDE             -0.1755      0.020     -8.840      0.000      -0.214      -0.137\n",
       "LONGITUDE             0.0732      0.010      7.479      0.000       0.054       0.092\n",
       "ALT                  -0.0006      0.004     -0.163      0.871      -0.008       0.007\n",
       "Period                0.0001   1.05e-05      9.832      0.000    8.26e-05       0.000\n",
       "==============================================================================\n",
       "Omnibus:                     6065.421   Durbin-Watson:                   2.001\n",
       "Prob(Omnibus):                  0.000   Jarque-Bera (JB):            50292.486\n",
       "Skew:                           1.617   Prob(JB):                         0.00\n",
       "Kurtosis:                      11.108   Cond. No.                     1.03e+05\n",
       "==============================================================================\n",
       "\n",
       "Warnings:\n",
       "[1] Standard Errors assume that the covariance matrix of the errors is correctly specified.\n",
       "[2] The condition number is large, 1.03e+05. This might indicate that there are\n",
       "strong multicollinearity or other numerical problems.\n",
       "\"\"\""
      ]
     },
     "execution_count": 22,
     "metadata": {},
     "output_type": "execute_result"
    }
   ],
   "source": [
    "new_x_train = x_train\n",
    "new_x_train = np.append(arr = np.ones((15840 , 1)).astype(int) , values = x_train , axis = 1)\n",
    "lm_OLS = sm.OLS(endog = y_train , exog = x_train).fit()\n",
    "lm_OLS.summary()"
   ]
  },
  {
   "cell_type": "code",
   "execution_count": 23,
   "metadata": {},
   "outputs": [
    {
     "data": {
      "text/plain": [
       "<matplotlib.axes._subplots.AxesSubplot at 0x1d5c6d2d208>"
      ]
     },
     "execution_count": 23,
     "metadata": {},
     "output_type": "execute_result"
    },
    {
     "data": {
      "image/png": "[encoded data removed]",
      "text/plain": [
       "<Figure size 1080x864 with 2 Axes>"
      ]
     },
     "metadata": {
      "needs_background": "light"
     },
     "output_type": "display_data"
    }
   ],
   "source": [
    "plt.figure(figsize = (15 , 12))\n",
    "sns.heatmap(x_train.corr())"
   ]
  },
  {
   "cell_type": "markdown",
   "metadata": {},
   "source": [
    "#### It is a thumb rule that if the P value is greater than 5% than delete those columns.According to that there are 4 columns have high P value and also 3 of them have negetive co-efficient value.So now delete 3 columns\n"
   ]
  },
  {
   "cell_type": "code",
   "execution_count": 24,
   "metadata": {},
   "outputs": [
    {
     "data": {
      "text/html": [
       "<div>\n",
       "<style scoped>\n",
       "    .dataframe tbody tr th:only-of-type {\n",
       "        vertical-align: middle;\n",
       "    }\n",
       "\n",
       "    .dataframe tbody tr th {\n",
       "        vertical-align: top;\n",
       "    }\n",
       "\n",
       "    .dataframe thead th {\n",
       "        text-align: right;\n",
       "    }\n",
       "</style>\n",
       "<table border=\"1\" class=\"dataframe\">\n",
       "  <thead>\n",
       "    <tr style=\"text-align: right;\">\n",
       "      <th></th>\n",
       "      <th>Station Names</th>\n",
       "      <th>YEAR</th>\n",
       "      <th>Month</th>\n",
       "      <th>Max Temp</th>\n",
       "      <th>Min Temp</th>\n",
       "      <th>Relative Humidity</th>\n",
       "      <th>Wind Speed</th>\n",
       "      <th>Cloud Coverage</th>\n",
       "      <th>Bright Sunshine</th>\n",
       "      <th>Station Number</th>\n",
       "      <th>LATITUDE</th>\n",
       "      <th>LONGITUDE</th>\n",
       "      <th>Period</th>\n",
       "    </tr>\n",
       "  </thead>\n",
       "  <tbody>\n",
       "    <tr>\n",
       "      <td>17095</td>\n",
       "      <td>0.794118</td>\n",
       "      <td>0.753846</td>\n",
       "      <td>0.545455</td>\n",
       "      <td>0.446078</td>\n",
       "      <td>0.828704</td>\n",
       "      <td>0.912281</td>\n",
       "      <td>0.205357</td>\n",
       "      <td>0.835443</td>\n",
       "      <td>3.300000</td>\n",
       "      <td>0.757143</td>\n",
       "      <td>0.334016</td>\n",
       "      <td>0.783784</td>\n",
       "      <td>1997.07</td>\n",
       "    </tr>\n",
       "    <tr>\n",
       "      <td>20004</td>\n",
       "      <td>0.941176</td>\n",
       "      <td>0.123077</td>\n",
       "      <td>0.545455</td>\n",
       "      <td>0.558824</td>\n",
       "      <td>0.851852</td>\n",
       "      <td>0.828870</td>\n",
       "      <td>0.135086</td>\n",
       "      <td>0.898734</td>\n",
       "      <td>3.719231</td>\n",
       "      <td>0.235714</td>\n",
       "      <td>0.821721</td>\n",
       "      <td>0.910811</td>\n",
       "      <td>1956.07</td>\n",
       "    </tr>\n",
       "    <tr>\n",
       "      <td>14671</td>\n",
       "      <td>0.676471</td>\n",
       "      <td>0.723077</td>\n",
       "      <td>0.818182</td>\n",
       "      <td>0.534314</td>\n",
       "      <td>0.861111</td>\n",
       "      <td>0.789474</td>\n",
       "      <td>0.053571</td>\n",
       "      <td>0.481013</td>\n",
       "      <td>6.100000</td>\n",
       "      <td>0.728571</td>\n",
       "      <td>0.305328</td>\n",
       "      <td>0.481081</td>\n",
       "      <td>1995.10</td>\n",
       "    </tr>\n",
       "    <tr>\n",
       "      <td>925</td>\n",
       "      <td>0.029412</td>\n",
       "      <td>0.292308</td>\n",
       "      <td>0.272727</td>\n",
       "      <td>0.627451</td>\n",
       "      <td>0.763889</td>\n",
       "      <td>0.666667</td>\n",
       "      <td>0.276786</td>\n",
       "      <td>0.379747</td>\n",
       "      <td>6.948485</td>\n",
       "      <td>0.664286</td>\n",
       "      <td>0.375000</td>\n",
       "      <td>0.567568</td>\n",
       "      <td>1967.04</td>\n",
       "    </tr>\n",
       "    <tr>\n",
       "      <td>17325</td>\n",
       "      <td>0.794118</td>\n",
       "      <td>0.600000</td>\n",
       "      <td>1.000000</td>\n",
       "      <td>0.264706</td>\n",
       "      <td>0.481481</td>\n",
       "      <td>0.649123</td>\n",
       "      <td>0.062500</td>\n",
       "      <td>0.164557</td>\n",
       "      <td>8.000000</td>\n",
       "      <td>0.757143</td>\n",
       "      <td>0.334016</td>\n",
       "      <td>0.783784</td>\n",
       "      <td>1987.12</td>\n",
       "    </tr>\n",
       "  </tbody>\n",
       "</table>\n",
       "</div>"
      ],
      "text/plain": [
       "       Station Names      YEAR     Month  Max Temp  Min Temp  \\\n",
       "17095       0.794118  0.753846  0.545455  0.446078  0.828704   \n",
       "20004       0.941176  0.123077  0.545455  0.558824  0.851852   \n",
       "14671       0.676471  0.723077  0.818182  0.534314  0.861111   \n",
       "925         0.029412  0.292308  0.272727  0.627451  0.763889   \n",
       "17325       0.794118  0.600000  1.000000  0.264706  0.481481   \n",
       "\n",
       "       Relative Humidity  Wind Speed  Cloud Coverage  Bright Sunshine  \\\n",
       "17095           0.912281    0.205357        0.835443         3.300000   \n",
       "20004           0.828870    0.135086        0.898734         3.719231   \n",
       "14671           0.789474    0.053571        0.481013         6.100000   \n",
       "925             0.666667    0.276786        0.379747         6.948485   \n",
       "17325           0.649123    0.062500        0.164557         8.000000   \n",
       "\n",
       "       Station Number  LATITUDE  LONGITUDE   Period  \n",
       "17095        0.757143  0.334016   0.783784  1997.07  \n",
       "20004        0.235714  0.821721   0.910811  1956.07  \n",
       "14671        0.728571  0.305328   0.481081  1995.10  \n",
       "925          0.664286  0.375000   0.567568  1967.04  \n",
       "17325        0.757143  0.334016   0.783784  1987.12  "
      ]
     },
     "execution_count": 24,
     "metadata": {},
     "output_type": "execute_result"
    }
   ],
   "source": [
    "new_x_train = x_train\n",
    "new_x_train = new_x_train.drop((['X_COR' , 'Y_COR' , 'ALT']) , axis = 1)\n",
    "new_x_train.head()"
   ]
  },
  {
   "cell_type": "code",
   "execution_count": 25,
   "metadata": {},
   "outputs": [
    {
     "data": {
      "text/html": [
       "<table class=\"simpletable\">\n",
       "<caption>OLS Regression Results</caption>\n",
       "<tr>\n",
       "  <th>Dep. Variable:</th>        <td>Rainfall</td>     <th>  R-squared:         </th>  <td>   0.648</td> \n",
       "</tr>\n",
       "<tr>\n",
       "  <th>Model:</th>                   <td>OLS</td>       <th>  Adj. R-squared:    </th>  <td>   0.648</td> \n",
       "</tr>\n",
       "<tr>\n",
       "  <th>Method:</th>             <td>Least Squares</td>  <th>  F-statistic:       </th>  <td>   2427.</td> \n",
       "</tr>\n",
       "<tr>\n",
       "  <th>Date:</th>             <td>Tue, 21 Apr 2020</td> <th>  Prob (F-statistic):</th>   <td>  0.00</td>  \n",
       "</tr>\n",
       "<tr>\n",
       "  <th>Time:</th>                 <td>15:17:17</td>     <th>  Log-Likelihood:    </th>  <td>  20050.</td> \n",
       "</tr>\n",
       "<tr>\n",
       "  <th>No. Observations:</th>      <td> 15840</td>      <th>  AIC:               </th> <td>-4.007e+04</td>\n",
       "</tr>\n",
       "<tr>\n",
       "  <th>Df Residuals:</th>          <td> 15827</td>      <th>  BIC:               </th> <td>-3.997e+04</td>\n",
       "</tr>\n",
       "<tr>\n",
       "  <th>Df Model:</th>              <td>    12</td>      <th>                     </th>      <td> </td>    \n",
       "</tr>\n",
       "<tr>\n",
       "  <th>Covariance Type:</th>      <td>nonrobust</td>    <th>                     </th>      <td> </td>    \n",
       "</tr>\n",
       "</table>\n",
       "<table class=\"simpletable\">\n",
       "<tr>\n",
       "          <td></td>             <th>coef</th>     <th>std err</th>      <th>t</th>      <th>P>|t|</th>  <th>[0.025</th>    <th>0.975]</th>  \n",
       "</tr>\n",
       "<tr>\n",
       "  <th>Station Names</th>     <td>    0.0128</td> <td>    0.002</td> <td>    6.509</td> <td> 0.000</td> <td>    0.009</td> <td>    0.017</td>\n",
       "</tr>\n",
       "<tr>\n",
       "  <th>YEAR</th>              <td>   -0.0106</td> <td>    0.002</td> <td>   -4.759</td> <td> 0.000</td> <td>   -0.015</td> <td>   -0.006</td>\n",
       "</tr>\n",
       "<tr>\n",
       "  <th>Month</th>             <td>   -0.0085</td> <td>    0.002</td> <td>   -4.123</td> <td> 0.000</td> <td>   -0.013</td> <td>   -0.004</td>\n",
       "</tr>\n",
       "<tr>\n",
       "  <th>Max Temp</th>          <td>    0.0114</td> <td>    0.007</td> <td>    1.653</td> <td> 0.098</td> <td>   -0.002</td> <td>    0.025</td>\n",
       "</tr>\n",
       "<tr>\n",
       "  <th>Min Temp</th>          <td>   -0.0254</td> <td>    0.006</td> <td>   -3.939</td> <td> 0.000</td> <td>   -0.038</td> <td>   -0.013</td>\n",
       "</tr>\n",
       "<tr>\n",
       "  <th>Relative Humidity</th> <td>    0.0728</td> <td>    0.007</td> <td>   10.355</td> <td> 0.000</td> <td>    0.059</td> <td>    0.087</td>\n",
       "</tr>\n",
       "<tr>\n",
       "  <th>Wind Speed</th>        <td>    0.0723</td> <td>    0.007</td> <td>   10.536</td> <td> 0.000</td> <td>    0.059</td> <td>    0.086</td>\n",
       "</tr>\n",
       "<tr>\n",
       "  <th>Cloud Coverage</th>    <td>    0.2358</td> <td>    0.005</td> <td>   43.394</td> <td> 0.000</td> <td>    0.225</td> <td>    0.246</td>\n",
       "</tr>\n",
       "<tr>\n",
       "  <th>Bright Sunshine</th>   <td>   -0.0159</td> <td>    0.001</td> <td>  -29.586</td> <td> 0.000</td> <td>   -0.017</td> <td>   -0.015</td>\n",
       "</tr>\n",
       "<tr>\n",
       "  <th>Station Number</th>    <td>   -0.1590</td> <td>    0.017</td> <td>   -9.308</td> <td> 0.000</td> <td>   -0.192</td> <td>   -0.126</td>\n",
       "</tr>\n",
       "<tr>\n",
       "  <th>LATITUDE</th>          <td>   -0.1737</td> <td>    0.018</td> <td>   -9.886</td> <td> 0.000</td> <td>   -0.208</td> <td>   -0.139</td>\n",
       "</tr>\n",
       "<tr>\n",
       "  <th>LONGITUDE</th>         <td>    0.0681</td> <td>    0.003</td> <td>   24.079</td> <td> 0.000</td> <td>    0.063</td> <td>    0.074</td>\n",
       "</tr>\n",
       "<tr>\n",
       "  <th>Period</th>            <td> 9.575e-05</td> <td> 9.64e-06</td> <td>    9.937</td> <td> 0.000</td> <td> 7.69e-05</td> <td>    0.000</td>\n",
       "</tr>\n",
       "</table>\n",
       "<table class=\"simpletable\">\n",
       "<tr>\n",
       "  <th>Omnibus:</th>       <td>6066.222</td> <th>  Durbin-Watson:     </th> <td>   2.001</td> \n",
       "</tr>\n",
       "<tr>\n",
       "  <th>Prob(Omnibus):</th>  <td> 0.000</td>  <th>  Jarque-Bera (JB):  </th> <td>50360.299</td>\n",
       "</tr>\n",
       "<tr>\n",
       "  <th>Skew:</th>           <td> 1.617</td>  <th>  Prob(JB):          </th> <td>    0.00</td> \n",
       "</tr>\n",
       "<tr>\n",
       "  <th>Kurtosis:</th>       <td>11.115</td>  <th>  Cond. No.          </th> <td>8.98e+04</td> \n",
       "</tr>\n",
       "</table><br/><br/>Warnings:<br/>[1] Standard Errors assume that the covariance matrix of the errors is correctly specified.<br/>[2] The condition number is large, 8.98e+04. This might indicate that there are<br/>strong multicollinearity or other numerical problems."
      ],
      "text/plain": [
       "<class 'statsmodels.iolib.summary.Summary'>\n",
       "\"\"\"\n",
       "                            OLS Regression Results                            \n",
       "==============================================================================\n",
       "Dep. Variable:               Rainfall   R-squared:                       0.648\n",
       "Model:                            OLS   Adj. R-squared:                  0.648\n",
       "Method:                 Least Squares   F-statistic:                     2427.\n",
       "Date:                Tue, 21 Apr 2020   Prob (F-statistic):               0.00\n",
       "Time:                        15:17:17   Log-Likelihood:                 20050.\n",
       "No. Observations:               15840   AIC:                        -4.007e+04\n",
       "Df Residuals:                   15827   BIC:                        -3.997e+04\n",
       "Df Model:                          12                                         \n",
       "Covariance Type:            nonrobust                                         \n",
       "=====================================================================================\n",
       "                        coef    std err          t      P>|t|      [0.025      0.975]\n",
       "-------------------------------------------------------------------------------------\n",
       "Station Names         0.0128      0.002      6.509      0.000       0.009       0.017\n",
       "YEAR                 -0.0106      0.002     -4.759      0.000      -0.015      -0.006\n",
       "Month                -0.0085      0.002     -4.123      0.000      -0.013      -0.004\n",
       "Max Temp              0.0114      0.007      1.653      0.098      -0.002       0.025\n",
       "Min Temp             -0.0254      0.006     -3.939      0.000      -0.038      -0.013\n",
       "Relative Humidity     0.0728      0.007     10.355      0.000       0.059       0.087\n",
       "Wind Speed            0.0723      0.007     10.536      0.000       0.059       0.086\n",
       "Cloud Coverage        0.2358      0.005     43.394      0.000       0.225       0.246\n",
       "Bright Sunshine      -0.0159      0.001    -29.586      0.000      -0.017      -0.015\n",
       "Station Number       -0.1590      0.017     -9.308      0.000      -0.192      -0.126\n",
       "LATITUDE             -0.1737      0.018     -9.886      0.000      -0.208      -0.139\n",
       "LONGITUDE             0.0681      0.003     24.079      0.000       0.063       0.074\n",
       "Period             9.575e-05   9.64e-06      9.937      0.000    7.69e-05       0.000\n",
       "==============================================================================\n",
       "Omnibus:                     6066.222   Durbin-Watson:                   2.001\n",
       "Prob(Omnibus):                  0.000   Jarque-Bera (JB):            50360.299\n",
       "Skew:                           1.617   Prob(JB):                         0.00\n",
       "Kurtosis:                      11.115   Cond. No.                     8.98e+04\n",
       "==============================================================================\n",
       "\n",
       "Warnings:\n",
       "[1] Standard Errors assume that the covariance matrix of the errors is correctly specified.\n",
       "[2] The condition number is large, 8.98e+04. This might indicate that there are\n",
       "strong multicollinearity or other numerical problems.\n",
       "\"\"\""
      ]
     },
     "execution_count": 25,
     "metadata": {},
     "output_type": "execute_result"
    }
   ],
   "source": [
    "new_x_trai = np.append(arr = np.ones((15840 , 1)).astype(int) , values = new_x_train , axis = 1)\n",
    "lm_OLS = sm.OLS(endog = y_train , exog = new_x_train).fit()\n",
    "lm_OLS.summary()"
   ]
  },
  {
   "cell_type": "code",
   "execution_count": 26,
   "metadata": {},
   "outputs": [
    {
     "data": {
      "text/plain": [
       "<matplotlib.axes._subplots.AxesSubplot at 0x1d5c6ff6188>"
      ]
     },
     "execution_count": 26,
     "metadata": {},
     "output_type": "execute_result"
    },
    {
     "data": {
      "image/png": "[encoded data removed]",
      "text/plain": [
       "<Figure size 1080x864 with 2 Axes>"
      ]
     },
     "metadata": {
      "needs_background": "light"
     },
     "output_type": "display_data"
    }
   ],
   "source": [
    "plt.figure(figsize = (15 , 12))\n",
    "sns.heatmap(x_train.corr() , cmap = 'bone_r')"
   ]
  },
  {
   "cell_type": "markdown",
   "metadata": {},
   "source": [
    "## Apply Different ML model"
   ]
  },
  {
   "cell_type": "markdown",
   "metadata": {},
   "source": [
    "### Simple Linear Regression"
   ]
  },
  {
   "cell_type": "code",
   "execution_count": null,
   "metadata": {},
   "outputs": [],
   "source": [
    "new_x_tr = x_train.pop('YEAR')\n",
    "new_x_tr1 = x_train.pop('X_COR')\n",
    "new_x_tr2 = x_train.pop('ALT')\n",
    "\n",
    "new_x_ts = x_test.pop('YEAR')\n",
    "new_x_ts1 = x_test.pop('X_COR')\n",
    "new_x_ts2 = x_test.pop('ALT')"
   ]
  },
  {
   "cell_type": "code",
   "execution_count": 29,
   "metadata": {},
   "outputs": [
    {
     "data": {
      "text/plain": [
       "(5280, 13)"
      ]
     },
     "execution_count": 29,
     "metadata": {},
     "output_type": "execute_result"
    }
   ],
   "source": [
    "new_x_test = x_test.drop((['X_COR' , 'Y_COR' , 'ALT']) , axis = 1)\n",
    "new_x_test.shape"
   ]
  },
  {
   "cell_type": "code",
   "execution_count": 31,
   "metadata": {},
   "outputs": [
    {
     "name": "stdout",
     "output_type": "stream",
     "text": [
      "0.6349438814948298\n"
     ]
    }
   ],
   "source": [
    "lm = LinearRegression()\n",
    "lm.fit(new_x_train, y_train)\n",
    "\n",
    "y1 = lm.predict(new_x_test)\n",
    "print(r2_score(y_test , y1))"
   ]
  },
  {
   "cell_type": "code",
   "execution_count": 33,
   "metadata": {},
   "outputs": [
    {
     "name": "stdout",
     "output_type": "stream",
     "text": [
      "After Cross validation: \n",
      "66.3060409851114\n"
     ]
    }
   ],
   "source": [
    "print('After Cross validation: ')\n",
    "lm = LinearRegression()\n",
    "new_scores = cross_val_score(lm, new_x_train , y_train, scoring='r2', cv=5)\n",
    "print(np.max(new_scores*100))"
   ]
  },
  {
   "cell_type": "markdown",
   "metadata": {},
   "source": [
    "### KNN"
   ]
  },
  {
   "cell_type": "code",
   "execution_count": 40,
   "metadata": {},
   "outputs": [
    {
     "name": "stdout",
     "output_type": "stream",
     "text": [
      "61.892284801318034\n"
     ]
    }
   ],
   "source": [
    "knn = KNeighborsRegressor(n_neighbors = 8)\n",
    "knn.fit(new_x_train , y_train)\n",
    "\n",
    "y_pred_knn = knn.predict(new_x_test)\n",
    "\n",
    "ac = r2_score(y_test , y_pred_knn)\n",
    "print(ac*100)"
   ]
  },
  {
   "cell_type": "code",
   "execution_count": 41,
   "metadata": {},
   "outputs": [
    {
     "name": "stdout",
     "output_type": "stream",
     "text": [
      "0.8358621972328679\n"
     ]
    }
   ],
   "source": [
    "knn = KNeighborsRegressor()\n",
    "scores = cross_val_score(knn, new_x_train, y_train, cv=200)\n",
    "print(np.max(scores))"
   ]
  },
  {
   "cell_type": "code",
   "execution_count": 42,
   "metadata": {},
   "outputs": [],
   "source": [
    "n_folds = 5\n",
    "parameters = {\n",
    "        'n_neighbors': range (2 , 50 , 2)\n",
    "        }"
   ]
  },
  {
   "cell_type": "code",
   "execution_count": 43,
   "metadata": {},
   "outputs": [
    {
     "name": "stdout",
     "output_type": "stream",
     "text": [
      "   mean_fit_time  std_fit_time  mean_score_time  std_score_time  \\\n",
      "0       0.041090      0.000747         0.096481        0.012027   \n",
      "1       0.036065      0.004007         0.082428        0.003111   \n",
      "2       0.034251      0.004934         0.094027        0.005701   \n",
      "3       0.033835      0.003745         0.145747        0.027206   \n",
      "4       0.064227      0.008239         0.131764        0.015472   \n",
      "\n",
      "  param_n_neighbors               params  split0_test_score  \\\n",
      "0                 2   {'n_neighbors': 2}           0.572361   \n",
      "1                 4   {'n_neighbors': 4}           0.624458   \n",
      "2                 6   {'n_neighbors': 6}           0.639465   \n",
      "3                 8   {'n_neighbors': 8}           0.640211   \n",
      "4                10  {'n_neighbors': 10}           0.641253   \n",
      "\n",
      "   split1_test_score  split2_test_score  split3_test_score  split4_test_score  \\\n",
      "0           0.599910           0.592338           0.625821           0.647351   \n",
      "1           0.642307           0.641524           0.662085           0.657927   \n",
      "2           0.649878           0.649529           0.664576           0.665729   \n",
      "3           0.641523           0.646258           0.666024           0.660664   \n",
      "4           0.639557           0.635117           0.657981           0.656967   \n",
      "\n",
      "   mean_test_score  std_test_score  rank_test_score  \n",
      "0         0.607556        0.026253               13  \n",
      "1         0.645660        0.013402                4  \n",
      "2         0.653836        0.009975                1  \n",
      "3         0.650936        0.010467                2  \n",
      "4         0.646175        0.009446                3  \n",
      "{'n_neighbors': 6}\n"
     ]
    }
   ],
   "source": [
    "knn = KNeighborsRegressor()\n",
    "\n",
    "tree = GridSearchCV(estimator = knn , param_grid = parameters , cv = n_folds , n_jobs = -1)\n",
    "tree.fit(new_x_train , y_train)\n",
    "\n",
    "score1 = tree.cv_results_\n",
    "\n",
    "print(pd.DataFrame(score1).head())\n",
    "print(tree.best_params_)"
   ]
  },
  {
   "cell_type": "code",
   "execution_count": 45,
   "metadata": {},
   "outputs": [
    {
     "name": "stdout",
     "output_type": "stream",
     "text": [
      "After Cross-validation:  61.892284801318034\n"
     ]
    }
   ],
   "source": [
    "## Apply with best neighbors\n",
    "\n",
    "knn = KNeighborsRegressor(n_neighbors = 6)\n",
    "knn.fit(new_x_train , y_train)\n",
    "\n",
    "y_pred_knn = knn.predict(new_x_test)\n",
    "\n",
    "ac_knn = r2_score(y_test , y_pred_knn)\n",
    "print('After Cross-validation: ',ac*100)"
   ]
  },
  {
   "cell_type": "code",
   "execution_count": null,
   "metadata": {},
   "outputs": [],
   "source": []
  }
 ],
 "metadata": {
  "kernelspec": {
   "display_name": "Python 3",
   "language": "python",
   "name": "python3"
  },
  "language_info": {
   "codemirror_mode": {
    "name": "ipython",
    "version": 3
   },
   "file_extension": ".py",
   "mimetype": "text/x-python",
   "name": "python",
   "nbconvert_exporter": "python",
   "pygments_lexer": "ipython3",
   "version": "3.7.4"
  }
 },
 "nbformat": 4,
 "nbformat_minor": 2
}
